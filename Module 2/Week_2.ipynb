{
 "cells": [
  {
   "cell_type": "markdown",
   "id": "c0de6628",
   "metadata": {},
   "source": [
    "# Day 2 Lecture Notes\n",
    "* Jupyter Notebook\n",
    "    * How to create cell\n",
    "    * How delete cell\n",
    "    * How to merge cell\n",
    "    * How to change cell\n",
    "    * How to run Jupyter Notebook \n",
    "* Operations\n",
    "    * Addition\n",
    "    * Subtraction\n",
    "    * Multiplication\n",
    "    * Division\n",
    "    * Integers Division\n",
    "    * Power\n",
    "    * Modules\n",
    "* Data Types\n",
    "    * Integers\n",
    "    * Float\n",
    "    * Variable Assignment\n",
    "    * Printing\n",
    "    * String\n",
    "        * Strings methods\n",
    "    * List\n",
    "    * Dictionary\n",
    "    * Boolean\n",
    "    * Tuple\n",
    "    * Comparison Operator\n",
    " * Bsic Operations\n",
    "     * Comparison Operators\n",
    "     * if, elif, else ststements\n",
    "     * for loops\n",
    "     * while loops\n",
    "     * range()\n",
    "     * list comprehension\n",
    "     * functions\n",
    "     * lambda expressions\n",
    "     * map and filter\n",
    "* Numpy\n",
    "    * Arrays\n",
    "    * Operations\n",
    "* Pandas\n",
    "    * Pandas Serries\n",
    "    * Pandas DataFrame\n",
    "    * Missing Data\n",
    "    * Handling Missing Data\n",
    "    * Case Study\n",
    "    * Join\n",
    "    * Merge\n",
    "    * Concatenate\n",
    "    * Outliers\n",
    "    * Mean, Meadain, Mode, Variance, STD\n"
   ]
  },
  {
   "cell_type": "markdown",
   "id": "5c188157",
   "metadata": {},
   "source": [
    " \n"
   ]
  },
  {
   "cell_type": "code",
   "execution_count": null,
   "id": "df4d401d",
   "metadata": {},
   "outputs": [],
   "source": []
  },
  {
   "cell_type": "code",
   "execution_count": 6,
   "id": "14b9e20c",
   "metadata": {},
   "outputs": [
    {
     "data": {
      "text/plain": [
       "1.6"
      ]
     },
     "execution_count": 6,
     "metadata": {},
     "output_type": "execute_result"
    }
   ],
   "source": [
    "0.05+1.55"
   ]
  },
  {
   "cell_type": "code",
   "execution_count": 7,
   "id": "2a4db620",
   "metadata": {},
   "outputs": [
    {
     "data": {
      "text/plain": [
       "0.8333333333333333"
      ]
     },
     "execution_count": 7,
     "metadata": {},
     "output_type": "execute_result"
    }
   ],
   "source": [
    "1/2+1/3"
   ]
  },
  {
   "cell_type": "code",
   "execution_count": 8,
   "id": "9f2d6da1",
   "metadata": {},
   "outputs": [
    {
     "data": {
      "text/plain": [
       "18"
      ]
     },
     "execution_count": 8,
     "metadata": {},
     "output_type": "execute_result"
    }
   ],
   "source": [
    "30-12"
   ]
  },
  {
   "cell_type": "code",
   "execution_count": 9,
   "id": "fc54afb5",
   "metadata": {},
   "outputs": [
    {
     "data": {
      "text/plain": [
       "-14"
      ]
     },
     "execution_count": 9,
     "metadata": {},
     "output_type": "execute_result"
    }
   ],
   "source": [
    "1-15"
   ]
  },
  {
   "cell_type": "code",
   "execution_count": 10,
   "id": "8416813a",
   "metadata": {},
   "outputs": [
    {
     "data": {
      "text/plain": [
       "-2.0"
      ]
     },
     "execution_count": 10,
     "metadata": {},
     "output_type": "execute_result"
    }
   ],
   "source": [
    "0.5-2.5"
   ]
  },
  {
   "cell_type": "code",
   "execution_count": 15,
   "id": "c5b38d22",
   "metadata": {},
   "outputs": [
    {
     "data": {
      "text/plain": [
       "10"
      ]
     },
     "execution_count": 15,
     "metadata": {},
     "output_type": "execute_result"
    }
   ],
   "source": [
    "2*7+ 19 -23"
   ]
  },
  {
   "cell_type": "code",
   "execution_count": 16,
   "id": "e99ba428",
   "metadata": {},
   "outputs": [
    {
     "data": {
      "text/plain": [
       "5.0"
      ]
     },
     "execution_count": 16,
     "metadata": {},
     "output_type": "execute_result"
    }
   ],
   "source": [
    "10/2"
   ]
  },
  {
   "cell_type": "code",
   "execution_count": 17,
   "id": "20b6ad45",
   "metadata": {},
   "outputs": [
    {
     "data": {
      "text/plain": [
       "3.6666666666666665"
      ]
     },
     "execution_count": 17,
     "metadata": {},
     "output_type": "execute_result"
    }
   ],
   "source": [
    "11/3"
   ]
  },
  {
   "cell_type": "code",
   "execution_count": 18,
   "id": "0ce01533",
   "metadata": {},
   "outputs": [
    {
     "data": {
      "text/plain": [
       "3"
      ]
     },
     "execution_count": 18,
     "metadata": {},
     "output_type": "execute_result"
    }
   ],
   "source": [
    "# Integer Division\n",
    "11//3"
   ]
  },
  {
   "cell_type": "code",
   "execution_count": 19,
   "id": "8eb82cd9",
   "metadata": {},
   "outputs": [
    {
     "data": {
      "text/plain": [
       "0"
      ]
     },
     "execution_count": 19,
     "metadata": {},
     "output_type": "execute_result"
    }
   ],
   "source": [
    "2//3"
   ]
  },
  {
   "cell_type": "code",
   "execution_count": 22,
   "id": "db5095cf",
   "metadata": {},
   "outputs": [
    {
     "data": {
      "text/plain": [
       "-6.5"
      ]
     },
     "execution_count": 22,
     "metadata": {},
     "output_type": "execute_result"
    }
   ],
   "source": [
    "-13/2\n"
   ]
  },
  {
   "cell_type": "code",
   "execution_count": 1,
   "id": "30b41fcd",
   "metadata": {},
   "outputs": [
    {
     "data": {
      "text/plain": [
       "9"
      ]
     },
     "execution_count": 1,
     "metadata": {},
     "output_type": "execute_result"
    }
   ],
   "source": [
    "# Power\n",
    "3**2 #This will return 3 square"
   ]
  },
  {
   "cell_type": "markdown",
   "id": "073a88e8",
   "metadata": {},
   "source": [
    "### The code below return square root of 4 \n",
    "\n",
    "$\\sqrt4$"
   ]
  },
  {
   "cell_type": "code",
   "execution_count": 9,
   "id": "9cef002e",
   "metadata": {},
   "outputs": [
    {
     "data": {
      "text/plain": [
       "2.0"
      ]
     },
     "execution_count": 9,
     "metadata": {},
     "output_type": "execute_result"
    }
   ],
   "source": [
    "4**(0.5) # This will return square root of 4 $\\sqrt(4)$"
   ]
  },
  {
   "cell_type": "markdown",
   "id": "f5d7d6f2",
   "metadata": {},
   "source": [
    "#### The code below will return $\\frac{1}{8}$"
   ]
  },
  {
   "cell_type": "code",
   "execution_count": 10,
   "id": "d2a78f44",
   "metadata": {},
   "outputs": [
    {
     "data": {
      "text/plain": [
       "0.125"
      ]
     },
     "execution_count": 10,
     "metadata": {},
     "output_type": "execute_result"
    }
   ],
   "source": [
    "2**(-3)"
   ]
  },
  {
   "cell_type": "code",
   "execution_count": 11,
   "id": "57a4a8bb",
   "metadata": {},
   "outputs": [
    {
     "data": {
      "text/plain": [
       "1"
      ]
     },
     "execution_count": 11,
     "metadata": {},
     "output_type": "execute_result"
    }
   ],
   "source": [
    "2**(0)"
   ]
  },
  {
   "cell_type": "markdown",
   "id": "9b896924",
   "metadata": {},
   "source": [
    "### The code below return cube root of 8\n",
    "\n",
    "$\\sqrt[3]{8}$"
   ]
  },
  {
   "cell_type": "code",
   "execution_count": 8,
   "id": "283844c1",
   "metadata": {},
   "outputs": [
    {
     "data": {
      "text/plain": [
       "2.0"
      ]
     },
     "execution_count": 8,
     "metadata": {},
     "output_type": "execute_result"
    }
   ],
   "source": [
    "8**(1/3)"
   ]
  },
  {
   "cell_type": "code",
   "execution_count": 13,
   "id": "f5a2e7a9",
   "metadata": {},
   "outputs": [],
   "source": [
    "# Modules (%): This is a very usefull operator that always \n",
    "#returs the reminder of the division"
   ]
  },
  {
   "cell_type": "code",
   "execution_count": 15,
   "id": "fa3a3c4a",
   "metadata": {},
   "outputs": [
    {
     "data": {
      "text/plain": [
       "3"
      ]
     },
     "execution_count": 15,
     "metadata": {},
     "output_type": "execute_result"
    }
   ],
   "source": [
    "13%5"
   ]
  },
  {
   "cell_type": "code",
   "execution_count": 16,
   "id": "6eb6c0b1",
   "metadata": {},
   "outputs": [
    {
     "data": {
      "text/plain": [
       "0"
      ]
     },
     "execution_count": 16,
     "metadata": {},
     "output_type": "execute_result"
    }
   ],
   "source": [
    "8%2"
   ]
  },
  {
   "cell_type": "code",
   "execution_count": 17,
   "id": "6ac03872",
   "metadata": {},
   "outputs": [
    {
     "data": {
      "text/plain": [
       "0"
      ]
     },
     "execution_count": 17,
     "metadata": {},
     "output_type": "execute_result"
    }
   ],
   "source": [
    "-16%2"
   ]
  },
  {
   "cell_type": "code",
   "execution_count": 18,
   "id": "071ad539",
   "metadata": {},
   "outputs": [
    {
     "data": {
      "text/plain": [
       "1"
      ]
     },
     "execution_count": 18,
     "metadata": {},
     "output_type": "execute_result"
    }
   ],
   "source": [
    "13%2"
   ]
  },
  {
   "cell_type": "code",
   "execution_count": 22,
   "id": "ed2ad214",
   "metadata": {},
   "outputs": [],
   "source": [
    "# integers(int) = negative whole numbers together with \n",
    "#positive whole numbers"
   ]
  },
  {
   "cell_type": "code",
   "execution_count": 20,
   "id": "c44165ad",
   "metadata": {},
   "outputs": [],
   "source": [
    "# Examples: 2, -5, -1999, -2023, 2024,....\n",
    "#...., -3,-2,-1,0,1,2,3,..."
   ]
  },
  {
   "cell_type": "code",
   "execution_count": 21,
   "id": "460b09c7",
   "metadata": {},
   "outputs": [
    {
     "data": {
      "text/plain": [
       "int"
      ]
     },
     "execution_count": 21,
     "metadata": {},
     "output_type": "execute_result"
    }
   ],
   "source": [
    "type(2)"
   ]
  },
  {
   "cell_type": "code",
   "execution_count": 23,
   "id": "7e97c0ce",
   "metadata": {},
   "outputs": [
    {
     "data": {
      "text/plain": [
       "float"
      ]
     },
     "execution_count": 23,
     "metadata": {},
     "output_type": "execute_result"
    }
   ],
   "source": [
    "type(2.0)"
   ]
  },
  {
   "cell_type": "code",
   "execution_count": 24,
   "id": "f5cbbd32",
   "metadata": {},
   "outputs": [],
   "source": [
    "# Floats are decimals. Examples: 2.0, 0.2, 35.15, 0.001"
   ]
  },
  {
   "cell_type": "code",
   "execution_count": 25,
   "id": "bc054974",
   "metadata": {},
   "outputs": [],
   "source": [
    "# Strings are alphanumerics that are between \n",
    "#either single quotations or double quotations"
   ]
  },
  {
   "cell_type": "code",
   "execution_count": 26,
   "id": "ad0ea213",
   "metadata": {},
   "outputs": [
    {
     "data": {
      "text/plain": [
       "'I am sinlge'"
      ]
     },
     "execution_count": 26,
     "metadata": {},
     "output_type": "execute_result"
    }
   ],
   "source": [
    "'I am sinlge'"
   ]
  },
  {
   "cell_type": "code",
   "execution_count": 27,
   "id": "58138578",
   "metadata": {},
   "outputs": [
    {
     "data": {
      "text/plain": [
       "'I am double quotations'"
      ]
     },
     "execution_count": 27,
     "metadata": {},
     "output_type": "execute_result"
    }
   ],
   "source": [
    "\"I am double quotations\""
   ]
  },
  {
   "cell_type": "code",
   "execution_count": 30,
   "id": "278f13b8",
   "metadata": {},
   "outputs": [
    {
     "data": {
      "text/plain": [
       "'Your name'"
      ]
     },
     "execution_count": 30,
     "metadata": {},
     "output_type": "execute_result"
    }
   ],
   "source": [
    "'Your name'"
   ]
  },
  {
   "cell_type": "code",
   "execution_count": 32,
   "id": "88e76118",
   "metadata": {
    "scrolled": true
   },
   "outputs": [
    {
     "data": {
      "text/plain": [
       "'Moussa'"
      ]
     },
     "execution_count": 32,
     "metadata": {},
     "output_type": "execute_result"
    }
   ],
   "source": [
    "'Moussa'"
   ]
  },
  {
   "cell_type": "code",
   "execution_count": null,
   "id": "c0d6d8d4",
   "metadata": {},
   "outputs": [],
   "source": [
    "w3school and check the string methods"
   ]
  },
  {
   "cell_type": "code",
   "execution_count": 1,
   "id": "7164aca1",
   "metadata": {},
   "outputs": [
    {
     "ename": "SyntaxError",
     "evalue": "invalid decimal literal (482550807.py, line 1)",
     "output_type": "error",
     "traceback": [
      "\u001b[0;36m  Cell \u001b[0;32mIn[1], line 1\u001b[0;36m\u001b[0m\n\u001b[0;31m    123var =77\u001b[0m\n\u001b[0m      ^\u001b[0m\n\u001b[0;31mSyntaxError\u001b[0m\u001b[0;31m:\u001b[0m invalid decimal literal\n"
     ]
    }
   ],
   "source": [
    "123var =77"
   ]
  },
  {
   "cell_type": "code",
   "execution_count": 2,
   "id": "d63cc583",
   "metadata": {},
   "outputs": [
    {
     "name": "stderr",
     "output_type": "stream",
     "text": [
      "UsageError: Line magic function `%var1=23` not found.\n"
     ]
    }
   ],
   "source": [
    "%var1=23"
   ]
  },
  {
   "cell_type": "code",
   "execution_count": 3,
   "id": "40208627",
   "metadata": {},
   "outputs": [],
   "source": [
    "var3_123 =2023"
   ]
  },
  {
   "cell_type": "code",
   "execution_count": 4,
   "id": "c97b3ee1",
   "metadata": {},
   "outputs": [
    {
     "ename": "SyntaxError",
     "evalue": "cannot assign to literal here. Maybe you meant '==' instead of '='? (378082299.py, line 1)",
     "output_type": "error",
     "traceback": [
      "\u001b[0;36m  Cell \u001b[0;32mIn[4], line 1\u001b[0;36m\u001b[0m\n\u001b[0;31m    \"Doumbia\" =last_name\u001b[0m\n\u001b[0m    ^\u001b[0m\n\u001b[0;31mSyntaxError\u001b[0m\u001b[0;31m:\u001b[0m cannot assign to literal here. Maybe you meant '==' instead of '='?\n"
     ]
    }
   ],
   "source": [
    "\"Doumbia\" =last_name"
   ]
  },
  {
   "cell_type": "code",
   "execution_count": 5,
   "id": "93325cb2",
   "metadata": {},
   "outputs": [],
   "source": [
    "last_name = \"Doumbia\""
   ]
  },
  {
   "cell_type": "code",
   "execution_count": 7,
   "id": "94f7e770",
   "metadata": {},
   "outputs": [],
   "source": [
    "var4_ =2"
   ]
  },
  {
   "cell_type": "markdown",
   "id": "576181f3",
   "metadata": {},
   "source": [
    "# String Methods"
   ]
  },
  {
   "cell_type": "code",
   "execution_count": 9,
   "id": "5ced6a81",
   "metadata": {},
   "outputs": [],
   "source": [
    "first_name = 'moussa'"
   ]
  },
  {
   "cell_type": "code",
   "execution_count": 10,
   "id": "b7384db8",
   "metadata": {},
   "outputs": [
    {
     "data": {
      "text/plain": [
       "'MOUSSA'"
      ]
     },
     "execution_count": 10,
     "metadata": {},
     "output_type": "execute_result"
    }
   ],
   "source": [
    "# Upper\n",
    "first_name.upper()"
   ]
  },
  {
   "cell_type": "code",
   "execution_count": 11,
   "id": "673fa5f4",
   "metadata": {},
   "outputs": [],
   "source": [
    "last_name = \"DOUMBIA\""
   ]
  },
  {
   "cell_type": "code",
   "execution_count": 12,
   "id": "b2097edc",
   "metadata": {},
   "outputs": [
    {
     "data": {
      "text/plain": [
       "'doumbia'"
      ]
     },
     "execution_count": 12,
     "metadata": {},
     "output_type": "execute_result"
    }
   ],
   "source": [
    "#lower\n",
    "last_name.lower()"
   ]
  },
  {
   "cell_type": "code",
   "execution_count": 16,
   "id": "344f4294",
   "metadata": {},
   "outputs": [],
   "source": [
    "full_name = 'Moussa   Doumbia'"
   ]
  },
  {
   "cell_type": "code",
   "execution_count": 19,
   "id": "d1577684",
   "metadata": {},
   "outputs": [
    {
     "data": {
      "text/plain": [
       "['Moussa', ' Doumbia']"
      ]
     },
     "execution_count": 19,
     "metadata": {},
     "output_type": "execute_result"
    }
   ],
   "source": [
    "# Split\n",
    "full_name.split(\"  \")"
   ]
  },
  {
   "cell_type": "code",
   "execution_count": 20,
   "id": "cb38246e",
   "metadata": {},
   "outputs": [],
   "source": [
    "email ='example@email.com'"
   ]
  },
  {
   "cell_type": "code",
   "execution_count": 21,
   "id": "0b5ca9d3",
   "metadata": {},
   "outputs": [
    {
     "data": {
      "text/plain": [
       "['example', 'email.com']"
      ]
     },
     "execution_count": 21,
     "metadata": {},
     "output_type": "execute_result"
    }
   ],
   "source": [
    "email.split(\"@\")"
   ]
  },
  {
   "cell_type": "code",
   "execution_count": 22,
   "id": "61aa977a",
   "metadata": {},
   "outputs": [],
   "source": [
    "#len\n",
    "school = '  Howard University         '"
   ]
  },
  {
   "cell_type": "code",
   "execution_count": 23,
   "id": "e6bbc12a",
   "metadata": {},
   "outputs": [
    {
     "data": {
      "text/plain": [
       "28"
      ]
     },
     "execution_count": 23,
     "metadata": {},
     "output_type": "execute_result"
    }
   ],
   "source": [
    "len(school)"
   ]
  },
  {
   "cell_type": "code",
   "execution_count": 24,
   "id": "eaf3f2e5",
   "metadata": {},
   "outputs": [],
   "source": [
    "# lstrip\n",
    "left = school.lstrip()"
   ]
  },
  {
   "cell_type": "code",
   "execution_count": 25,
   "id": "3eb7f51c",
   "metadata": {},
   "outputs": [
    {
     "data": {
      "text/plain": [
       "'Howard University         '"
      ]
     },
     "execution_count": 25,
     "metadata": {},
     "output_type": "execute_result"
    }
   ],
   "source": [
    "left"
   ]
  },
  {
   "cell_type": "code",
   "execution_count": 28,
   "id": "066813ca",
   "metadata": {},
   "outputs": [
    {
     "data": {
      "text/plain": [
       "26"
      ]
     },
     "execution_count": 28,
     "metadata": {},
     "output_type": "execute_result"
    }
   ],
   "source": [
    "len(left)"
   ]
  },
  {
   "cell_type": "code",
   "execution_count": 26,
   "id": "d091f85d",
   "metadata": {},
   "outputs": [],
   "source": [
    "# rstrip\n",
    "right = school.rstrip()"
   ]
  },
  {
   "cell_type": "code",
   "execution_count": 27,
   "id": "0eaf2f53",
   "metadata": {},
   "outputs": [
    {
     "data": {
      "text/plain": [
       "'  Howard University'"
      ]
     },
     "execution_count": 27,
     "metadata": {},
     "output_type": "execute_result"
    }
   ],
   "source": [
    "right"
   ]
  },
  {
   "cell_type": "code",
   "execution_count": 29,
   "id": "657210e5",
   "metadata": {},
   "outputs": [
    {
     "data": {
      "text/plain": [
       "19"
      ]
     },
     "execution_count": 29,
     "metadata": {},
     "output_type": "execute_result"
    }
   ],
   "source": [
    "len(right)"
   ]
  },
  {
   "cell_type": "code",
   "execution_count": 30,
   "id": "27b010aa",
   "metadata": {},
   "outputs": [
    {
     "data": {
      "text/plain": [
       "'Howard University'"
      ]
     },
     "execution_count": 30,
     "metadata": {},
     "output_type": "execute_result"
    }
   ],
   "source": [
    "#strip\n",
    "school.strip()"
   ]
  },
  {
   "cell_type": "code",
   "execution_count": 31,
   "id": "dceced80",
   "metadata": {},
   "outputs": [],
   "source": [
    "crazy_example = '%customer---'"
   ]
  },
  {
   "cell_type": "code",
   "execution_count": 32,
   "id": "9b986234",
   "metadata": {},
   "outputs": [
    {
     "data": {
      "text/plain": [
       "'customer---'"
      ]
     },
     "execution_count": 32,
     "metadata": {},
     "output_type": "execute_result"
    }
   ],
   "source": [
    "crazy_example.lstrip(\"%\")"
   ]
  },
  {
   "cell_type": "code",
   "execution_count": 33,
   "id": "06f2694f",
   "metadata": {},
   "outputs": [
    {
     "data": {
      "text/plain": [
       "'%customer'"
      ]
     },
     "execution_count": 33,
     "metadata": {},
     "output_type": "execute_result"
    }
   ],
   "source": [
    "crazy_example.rstrip(\"-\")"
   ]
  },
  {
   "cell_type": "code",
   "execution_count": 14,
   "id": "ecff80d7",
   "metadata": {},
   "outputs": [],
   "source": [
    "# Lists are of the form ['member1','member2','memeber3'], [23,12,99,90,1,0.5]\n",
    "my_fruits_basket = ['Mango', 'Apple', 'Banana', 'Grape','Tomato','Drago Fruit','Peanut', 'Strawberry']"
   ]
  },
  {
   "cell_type": "code",
   "execution_count": 15,
   "id": "964fdf48",
   "metadata": {},
   "outputs": [],
   "source": [
    " #                       0,     1,        2,      3,         4,        5,            6,        7"
   ]
  },
  {
   "cell_type": "code",
   "execution_count": 16,
   "id": "443a4e26",
   "metadata": {},
   "outputs": [
    {
     "data": {
      "text/plain": [
       "'Strawberry'"
      ]
     },
     "execution_count": 16,
     "metadata": {},
     "output_type": "execute_result"
    }
   ],
   "source": [
    "my_fruits_basket[7]"
   ]
  },
  {
   "cell_type": "code",
   "execution_count": 17,
   "id": "bae9ce65",
   "metadata": {},
   "outputs": [
    {
     "data": {
      "text/plain": [
       "'Strawberry'"
      ]
     },
     "execution_count": 17,
     "metadata": {},
     "output_type": "execute_result"
    }
   ],
   "source": [
    "my_fruits_basket[-1]"
   ]
  },
  {
   "cell_type": "code",
   "execution_count": 18,
   "id": "35c4606e",
   "metadata": {},
   "outputs": [
    {
     "data": {
      "text/plain": [
       "['Mango', 'Apple', 'Banana']"
      ]
     },
     "execution_count": 18,
     "metadata": {},
     "output_type": "execute_result"
    }
   ],
   "source": [
    "my_fruits_basket[0:3] # index 3 is excluded"
   ]
  },
  {
   "cell_type": "code",
   "execution_count": 19,
   "id": "7b280be9",
   "metadata": {},
   "outputs": [],
   "source": [
    "# Remove the last member\n",
    "last = my_fruits_basket.pop()"
   ]
  },
  {
   "cell_type": "code",
   "execution_count": 20,
   "id": "48951279",
   "metadata": {},
   "outputs": [
    {
     "data": {
      "text/plain": [
       "'Strawberry'"
      ]
     },
     "execution_count": 20,
     "metadata": {},
     "output_type": "execute_result"
    }
   ],
   "source": [
    "last"
   ]
  },
  {
   "cell_type": "code",
   "execution_count": 8,
   "id": "9882b3ef",
   "metadata": {},
   "outputs": [
    {
     "data": {
      "text/plain": [
       "['Mango', 'Apple', 'Banana', 'Grape', 'Tomato', 'Drago Fruit', 'Peanut']"
      ]
     },
     "execution_count": 8,
     "metadata": {},
     "output_type": "execute_result"
    }
   ],
   "source": [
    "my_fruits_basket"
   ]
  },
  {
   "cell_type": "code",
   "execution_count": 10,
   "id": "ce48d5f6",
   "metadata": {},
   "outputs": [],
   "source": [
    "# Populating a list\n",
    "# Here we want to add Strwberry to my_fruits_bast list\n",
    "my_fruits_basket[6] = 'Strawberry'"
   ]
  },
  {
   "cell_type": "code",
   "execution_count": 11,
   "id": "074a15bf",
   "metadata": {},
   "outputs": [
    {
     "data": {
      "text/plain": [
       "['Mango', 'Apple', 'Banana', 'Grape', 'Tomato', 'Drago Fruit', 'Strawberry']"
      ]
     },
     "execution_count": 11,
     "metadata": {},
     "output_type": "execute_result"
    }
   ],
   "source": [
    "my_fruits_basket"
   ]
  },
  {
   "cell_type": "code",
   "execution_count": 12,
   "id": "e4212215",
   "metadata": {},
   "outputs": [
    {
     "data": {
      "text/plain": [
       "'Banana'"
      ]
     },
     "execution_count": 12,
     "metadata": {},
     "output_type": "execute_result"
    }
   ],
   "source": [
    "# removing a specific member\n",
    "my_fruits_basket.pop(2)"
   ]
  },
  {
   "cell_type": "code",
   "execution_count": 13,
   "id": "3717b7d5",
   "metadata": {},
   "outputs": [
    {
     "data": {
      "text/plain": [
       "['Mango', 'Apple', 'Grape', 'Tomato', 'Drago Fruit', 'Strawberry']"
      ]
     },
     "execution_count": 13,
     "metadata": {},
     "output_type": "execute_result"
    }
   ],
   "source": [
    "my_fruits_basket"
   ]
  },
  {
   "cell_type": "code",
   "execution_count": 22,
   "id": "1dfed700",
   "metadata": {},
   "outputs": [
    {
     "data": {
      "text/plain": [
       "[(0, 'Mango'),\n",
       " (1, 'Apple'),\n",
       " (2, 'Banana'),\n",
       " (3, 'Grape'),\n",
       " (4, 'Tomato'),\n",
       " (5, 'Drago Fruit'),\n",
       " (6, 'Peanut')]"
      ]
     },
     "execution_count": 22,
     "metadata": {},
     "output_type": "execute_result"
    }
   ],
   "source": [
    "list(enumerate(my_fruits_basket))"
   ]
  },
  {
   "cell_type": "code",
   "execution_count": 24,
   "id": "b4607995",
   "metadata": {},
   "outputs": [],
   "source": [
    "other_fruit = ['Blueberry','Water melon','Orange']"
   ]
  },
  {
   "cell_type": "code",
   "execution_count": 25,
   "id": "94821dea",
   "metadata": {},
   "outputs": [],
   "source": [
    "big_basket_of_fruits = my_fruits_basket+other_fruit"
   ]
  },
  {
   "cell_type": "code",
   "execution_count": 26,
   "id": "a662ed46",
   "metadata": {},
   "outputs": [
    {
     "data": {
      "text/plain": [
       "['Mango',\n",
       " 'Apple',\n",
       " 'Banana',\n",
       " 'Grape',\n",
       " 'Tomato',\n",
       " 'Drago Fruit',\n",
       " 'Peanut',\n",
       " 'Blueberry',\n",
       " 'Water melon',\n",
       " 'Orange']"
      ]
     },
     "execution_count": 26,
     "metadata": {},
     "output_type": "execute_result"
    }
   ],
   "source": [
    "big_basket_of_fruits"
   ]
  },
  {
   "cell_type": "markdown",
   "id": "7d804b48",
   "metadata": {},
   "source": [
    "$Check{w3school}$"
   ]
  },
  {
   "cell_type": "code",
   "execution_count": 27,
   "id": "b13dda5a",
   "metadata": {},
   "outputs": [],
   "source": [
    "seat_number = [1,2,3,4,5,6,7,8,9,10]"
   ]
  },
  {
   "cell_type": "code",
   "execution_count": 30,
   "id": "f48190fc",
   "metadata": {},
   "outputs": [
    {
     "data": {
      "text/plain": [
       "[1, 2, 3, 4, 5, 6, 7, 8, 9, 10]"
      ]
     },
     "execution_count": 30,
     "metadata": {},
     "output_type": "execute_result"
    }
   ],
   "source": [
    "seat_number"
   ]
  },
  {
   "cell_type": "code",
   "execution_count": 32,
   "id": "f64152dd",
   "metadata": {},
   "outputs": [],
   "source": [
    "my_examp = {'Key1':'value1','Key2':'value2','Key3':'value3'}"
   ]
  },
  {
   "cell_type": "code",
   "execution_count": 33,
   "id": "43f90cba",
   "metadata": {},
   "outputs": [],
   "source": [
    "students_gpa={'S1':4.0, 'S2':3.88,'S3':3.95, 'S4':4.0}"
   ]
  },
  {
   "cell_type": "code",
   "execution_count": 34,
   "id": "48de38e7",
   "metadata": {},
   "outputs": [
    {
     "data": {
      "text/plain": [
       "{'S1': 4.0, 'S2': 3.88, 'S3': 3.95, 'S4': 4.0}"
      ]
     },
     "execution_count": 34,
     "metadata": {},
     "output_type": "execute_result"
    }
   ],
   "source": [
    "students_gpa"
   ]
  },
  {
   "cell_type": "code",
   "execution_count": 35,
   "id": "ff4cbf48",
   "metadata": {},
   "outputs": [
    {
     "data": {
      "text/plain": [
       "dict_items([('S1', 4.0), ('S2', 3.88), ('S3', 3.95), ('S4', 4.0)])"
      ]
     },
     "execution_count": 35,
     "metadata": {},
     "output_type": "execute_result"
    }
   ],
   "source": [
    "students_gpa.items()"
   ]
  },
  {
   "cell_type": "code",
   "execution_count": 40,
   "id": "48e5b9dc",
   "metadata": {},
   "outputs": [],
   "source": [
    "students = {\n",
    "    'ID':'@12345678',\n",
    "    'Name':'John Doe',\n",
    "    'Email':'stduent_email@bison.howard.edu',\n",
    "    'Phone':2028067131,\n",
    "    'School':'COAS',\n",
    "    'Major':\"Data Science\",\n",
    "    'Minor':\"Optional\",\n",
    "    'GPA': 4.0,\n",
    "    'Origin':'Domestic/F1'\n",
    "}"
   ]
  },
  {
   "cell_type": "code",
   "execution_count": 41,
   "id": "4f6ecf10",
   "metadata": {},
   "outputs": [
    {
     "data": {
      "text/plain": [
       "'John Doe'"
      ]
     },
     "execution_count": 41,
     "metadata": {},
     "output_type": "execute_result"
    }
   ],
   "source": [
    "students['Name']"
   ]
  },
  {
   "cell_type": "code",
   "execution_count": 43,
   "id": "93a50383",
   "metadata": {},
   "outputs": [],
   "source": [
    "del students['GPA']"
   ]
  },
  {
   "cell_type": "code",
   "execution_count": 44,
   "id": "6f9bebed",
   "metadata": {},
   "outputs": [
    {
     "data": {
      "text/plain": [
       "{'ID': '@12345678',\n",
       " 'Name': 'John Doe',\n",
       " 'Email': 'stduent_email@bison.howard.edu',\n",
       " 'Phone': 2028067131,\n",
       " 'School': 'COAS',\n",
       " 'Major': 'Data Science',\n",
       " 'Minor': 'Optional',\n",
       " 'Origin': 'Domestic/F1'}"
      ]
     },
     "execution_count": 44,
     "metadata": {},
     "output_type": "execute_result"
    }
   ],
   "source": [
    "students"
   ]
  },
  {
   "cell_type": "code",
   "execution_count": 45,
   "id": "5f05a37c",
   "metadata": {},
   "outputs": [],
   "source": [
    "students['ER-Contact']= 'Mom or Dad at 2028065555'"
   ]
  },
  {
   "cell_type": "code",
   "execution_count": 46,
   "id": "024e1074",
   "metadata": {},
   "outputs": [
    {
     "data": {
      "text/plain": [
       "{'ID': '@12345678',\n",
       " 'Name': 'John Doe',\n",
       " 'Email': 'stduent_email@bison.howard.edu',\n",
       " 'Phone': 2028067131,\n",
       " 'School': 'COAS',\n",
       " 'Major': 'Data Science',\n",
       " 'Minor': 'Optional',\n",
       " 'Origin': 'Domestic/F1',\n",
       " 'ER-Contact': 'Mom or Dad at 2028065555'}"
      ]
     },
     "execution_count": 46,
     "metadata": {},
     "output_type": "execute_result"
    }
   ],
   "source": [
    "students"
   ]
  },
  {
   "cell_type": "code",
   "execution_count": 50,
   "id": "001c7fe8",
   "metadata": {},
   "outputs": [],
   "source": [
    "#create sequence of strings\n",
    "cities = ('Paris','Athens', 'Madrid')"
   ]
  },
  {
   "cell_type": "code",
   "execution_count": 51,
   "id": "761d3249",
   "metadata": {},
   "outputs": [],
   "source": [
    "#create the dictionary, `my_dictionary`, using the fromkeys() method\n",
    "my_dictionary = dict.fromkeys(cities)"
   ]
  },
  {
   "cell_type": "code",
   "execution_count": 52,
   "id": "0f1ba34a",
   "metadata": {},
   "outputs": [
    {
     "data": {
      "text/plain": [
       "{'Paris': None, 'Athens': None, 'Madrid': None}"
      ]
     },
     "execution_count": 52,
     "metadata": {},
     "output_type": "execute_result"
    }
   ],
   "source": [
    "my_dictionary"
   ]
  },
  {
   "cell_type": "code",
   "execution_count": 53,
   "id": "bd750834",
   "metadata": {},
   "outputs": [
    {
     "data": {
      "text/plain": [
       "'COAS'"
      ]
     },
     "execution_count": 53,
     "metadata": {},
     "output_type": "execute_result"
    }
   ],
   "source": [
    "students.get('School')"
   ]
  },
  {
   "cell_type": "code",
   "execution_count": null,
   "id": "84673eaf",
   "metadata": {},
   "outputs": [],
   "source": [
    "# Practice: Build a dictionary using the following information\n",
    "# Car: Make, Model, Color, Origin, Cylinder, Doors, Mileage, Year, Status"
   ]
  },
  {
   "cell_type": "code",
   "execution_count": 58,
   "id": "8d715024",
   "metadata": {},
   "outputs": [],
   "source": [
    "Car = {'Make': 'Toyota',\n",
    "       'Model':'Camry',\n",
    "       'Color':'White',\n",
    "       'Origin':'Dubai',\n",
    "       'Cylinder':'4-cylinder',\n",
    "       'Doors':\"4-Doors\",\n",
    "       'Mileage_Driven':100000,\n",
    "       'Year':1999,\n",
    "       'Status':\"Used\"\n",
    "    \n",
    "}"
   ]
  },
  {
   "cell_type": "code",
   "execution_count": 57,
   "id": "9a4706ce",
   "metadata": {},
   "outputs": [
    {
     "data": {
      "text/plain": [
       "'White'"
      ]
     },
     "execution_count": 57,
     "metadata": {},
     "output_type": "execute_result"
    }
   ],
   "source": [
    "Car['Color']"
   ]
  },
  {
   "cell_type": "code",
   "execution_count": 59,
   "id": "417677b4",
   "metadata": {},
   "outputs": [],
   "source": [
    "Car['Mileage']='60mi/Gal'"
   ]
  },
  {
   "cell_type": "code",
   "execution_count": 60,
   "id": "b7639c72",
   "metadata": {},
   "outputs": [
    {
     "data": {
      "text/plain": [
       "{'Make': 'Toyota',\n",
       " 'Model': 'Camry',\n",
       " 'Color': 'White',\n",
       " 'Origin': 'Dubai',\n",
       " 'Cylinder': '4-cylinder',\n",
       " 'Doors': '4-Doors',\n",
       " 'Mileage_Driven': 100000,\n",
       " 'Year': 1999,\n",
       " 'Status': 'Used',\n",
       " 'Mileage': '60mi/Gal'}"
      ]
     },
     "execution_count": 60,
     "metadata": {},
     "output_type": "execute_result"
    }
   ],
   "source": [
    "Car"
   ]
  },
  {
   "cell_type": "markdown",
   "id": "1b215f53",
   "metadata": {},
   "source": [
    "# The operatoer AND(&) stands for intersection\n",
    "### AND OPERATOR\n",
    "\n",
    "|T |T |=T|\n",
    "|--|--|--|\n",
    "|T | F|=F|\n",
    "|  |  |  |\n",
    "|F | T|=F|\n",
    "|F | F|=F|"
   ]
  },
  {
   "cell_type": "code",
   "execution_count": 1,
   "id": "3ed76fba",
   "metadata": {},
   "outputs": [
    {
     "data": {
      "text/plain": [
       "False"
      ]
     },
     "execution_count": 1,
     "metadata": {},
     "output_type": "execute_result"
    }
   ],
   "source": [
    "(0<0)"
   ]
  },
  {
   "cell_type": "code",
   "execution_count": 2,
   "id": "64a18e83",
   "metadata": {},
   "outputs": [
    {
     "data": {
      "text/plain": [
       "True"
      ]
     },
     "execution_count": 2,
     "metadata": {},
     "output_type": "execute_result"
    }
   ],
   "source": [
    "(10>5)"
   ]
  },
  {
   "cell_type": "code",
   "execution_count": null,
   "id": "7740717c",
   "metadata": {},
   "outputs": [],
   "source": [
    "(0<0) and (10>5)"
   ]
  },
  {
   "cell_type": "code",
   "execution_count": 4,
   "id": "a50cd3c6",
   "metadata": {},
   "outputs": [
    {
     "data": {
      "text/plain": [
       "False"
      ]
     },
     "execution_count": 4,
     "metadata": {},
     "output_type": "execute_result"
    }
   ],
   "source": [
    "(0<0) & (10>5)"
   ]
  },
  {
   "cell_type": "markdown",
   "id": "4f243e87",
   "metadata": {},
   "source": [
    "# The operatoer AND( | ) stands for intersection\n",
    "# \"OR\" OPERATOR\n",
    "\n",
    "|Con1|Cond2|OR |\n",
    "|----|-----|---|\n",
    "|T   |T    |=T |\n",
    "|T   | F   |=T |\n",
    "|F   | T   |=T |\n",
    "|F   | F   |=F |"
   ]
  },
  {
   "cell_type": "code",
   "execution_count": 5,
   "id": "0c0aab47",
   "metadata": {},
   "outputs": [
    {
     "data": {
      "text/plain": [
       "True"
      ]
     },
     "execution_count": 5,
     "metadata": {},
     "output_type": "execute_result"
    }
   ],
   "source": [
    "(0<0) or (10>5)"
   ]
  },
  {
   "cell_type": "code",
   "execution_count": 6,
   "id": "8a34b40c",
   "metadata": {},
   "outputs": [
    {
     "data": {
      "text/plain": [
       "True"
      ]
     },
     "execution_count": 6,
     "metadata": {},
     "output_type": "execute_result"
    }
   ],
   "source": [
    "(0<0) | (10>5)"
   ]
  },
  {
   "cell_type": "code",
   "execution_count": 7,
   "id": "1417b3af",
   "metadata": {},
   "outputs": [
    {
     "data": {
      "text/plain": [
       "False"
      ]
     },
     "execution_count": 7,
     "metadata": {},
     "output_type": "execute_result"
    }
   ],
   "source": [
    "#Comparison Operator\n",
    "True == False"
   ]
  },
  {
   "cell_type": "code",
   "execution_count": 8,
   "id": "3d1c0883",
   "metadata": {},
   "outputs": [
    {
     "data": {
      "text/plain": [
       "False"
      ]
     },
     "execution_count": 8,
     "metadata": {},
     "output_type": "execute_result"
    }
   ],
   "source": [
    "\"Sping\" == 'Summer'"
   ]
  },
  {
   "cell_type": "code",
   "execution_count": 9,
   "id": "61948c80",
   "metadata": {},
   "outputs": [
    {
     "data": {
      "text/plain": [
       "False"
      ]
     },
     "execution_count": 9,
     "metadata": {},
     "output_type": "execute_result"
    }
   ],
   "source": [
    "'Moussa' == \"moussa\""
   ]
  },
  {
   "cell_type": "code",
   "execution_count": 10,
   "id": "cf55ab38",
   "metadata": {},
   "outputs": [
    {
     "data": {
      "text/plain": [
       "True"
      ]
     },
     "execution_count": 10,
     "metadata": {},
     "output_type": "execute_result"
    }
   ],
   "source": [
    "12%3 == 0"
   ]
  },
  {
   "cell_type": "code",
   "execution_count": 11,
   "id": "12e13512",
   "metadata": {},
   "outputs": [
    {
     "data": {
      "text/plain": [
       "False"
      ]
     },
     "execution_count": 11,
     "metadata": {},
     "output_type": "execute_result"
    }
   ],
   "source": [
    "12%3 != 0"
   ]
  },
  {
   "cell_type": "code",
   "execution_count": 12,
   "id": "6fe8ed09",
   "metadata": {},
   "outputs": [],
   "source": [
    "num = 175"
   ]
  },
  {
   "cell_type": "code",
   "execution_count": 13,
   "id": "ca2ee14a",
   "metadata": {},
   "outputs": [
    {
     "data": {
      "text/plain": [
       "True"
      ]
     },
     "execution_count": 13,
     "metadata": {},
     "output_type": "execute_result"
    }
   ],
   "source": [
    "num % 2 != 0"
   ]
  },
  {
   "cell_type": "code",
   "execution_count": 14,
   "id": "23cc009a",
   "metadata": {},
   "outputs": [
    {
     "data": {
      "text/plain": [
       "False"
      ]
     },
     "execution_count": 14,
     "metadata": {},
     "output_type": "execute_result"
    }
   ],
   "source": [
    "num % 2 == 0"
   ]
  },
  {
   "cell_type": "code",
   "execution_count": 15,
   "id": "bd02529b",
   "metadata": {},
   "outputs": [
    {
     "data": {
      "text/plain": [
       "True"
      ]
     },
     "execution_count": 15,
     "metadata": {},
     "output_type": "execute_result"
    }
   ],
   "source": [
    "num % 2 >= 0"
   ]
  },
  {
   "cell_type": "code",
   "execution_count": 16,
   "id": "77c2417d",
   "metadata": {},
   "outputs": [],
   "source": [
    "# Tuples are Unchangeable data\n",
    "my_tuple = (1,11)"
   ]
  },
  {
   "cell_type": "code",
   "execution_count": 18,
   "id": "b19b6013",
   "metadata": {},
   "outputs": [
    {
     "ename": "TypeError",
     "evalue": "'tuple' object does not support item assignment",
     "output_type": "error",
     "traceback": [
      "\u001b[0;31m---------------------------------------------------------------------------\u001b[0m",
      "\u001b[0;31mTypeError\u001b[0m                                 Traceback (most recent call last)",
      "Cell \u001b[0;32mIn[18], line 1\u001b[0m\n\u001b[0;32m----> 1\u001b[0m my_tuple[\u001b[38;5;241m0\u001b[39m] \u001b[38;5;241m=\u001b[39m \u001b[38;5;241m3\u001b[39m\n",
      "\u001b[0;31mTypeError\u001b[0m: 'tuple' object does not support item assignment"
     ]
    }
   ],
   "source": [
    "my_tuple[0] = 3"
   ]
  },
  {
   "cell_type": "code",
   "execution_count": 19,
   "id": "ff883e27",
   "metadata": {},
   "outputs": [],
   "source": [
    "a, b = (1,11)"
   ]
  },
  {
   "cell_type": "code",
   "execution_count": 20,
   "id": "c9632e5e",
   "metadata": {},
   "outputs": [
    {
     "data": {
      "text/plain": [
       "1"
      ]
     },
     "execution_count": 20,
     "metadata": {},
     "output_type": "execute_result"
    }
   ],
   "source": [
    "a"
   ]
  },
  {
   "cell_type": "code",
   "execution_count": 21,
   "id": "c7ab4c4b",
   "metadata": {},
   "outputs": [
    {
     "data": {
      "text/plain": [
       "11"
      ]
     },
     "execution_count": 21,
     "metadata": {},
     "output_type": "execute_result"
    }
   ],
   "source": [
    "b"
   ]
  },
  {
   "cell_type": "code",
   "execution_count": 22,
   "id": "7938ff2c",
   "metadata": {},
   "outputs": [
    {
     "ename": "ValueError",
     "evalue": "not enough values to unpack (expected 3, got 2)",
     "output_type": "error",
     "traceback": [
      "\u001b[0;31m---------------------------------------------------------------------------\u001b[0m",
      "\u001b[0;31mValueError\u001b[0m                                Traceback (most recent call last)",
      "Cell \u001b[0;32mIn[22], line 1\u001b[0m\n\u001b[0;32m----> 1\u001b[0m a,b,c \u001b[38;5;241m=\u001b[39m(\u001b[38;5;241m1\u001b[39m,\u001b[38;5;241m11\u001b[39m)\n",
      "\u001b[0;31mValueError\u001b[0m: not enough values to unpack (expected 3, got 2)"
     ]
    }
   ],
   "source": [
    "a,b,c =(1,11)"
   ]
  },
  {
   "cell_type": "code",
   "execution_count": 23,
   "id": "7db7e6cc",
   "metadata": {},
   "outputs": [],
   "source": [
    "his_tuple = (2,22,44)"
   ]
  },
  {
   "cell_type": "code",
   "execution_count": 24,
   "id": "eace64b2",
   "metadata": {},
   "outputs": [
    {
     "ename": "ValueError",
     "evalue": "too many values to unpack (expected 2)",
     "output_type": "error",
     "traceback": [
      "\u001b[0;31m---------------------------------------------------------------------------\u001b[0m",
      "\u001b[0;31mValueError\u001b[0m                                Traceback (most recent call last)",
      "Cell \u001b[0;32mIn[24], line 1\u001b[0m\n\u001b[0;32m----> 1\u001b[0m a,b \u001b[38;5;241m=\u001b[39m (\u001b[38;5;241m2\u001b[39m,\u001b[38;5;241m22\u001b[39m,\u001b[38;5;241m44\u001b[39m)\n",
      "\u001b[0;31mValueError\u001b[0m: too many values to unpack (expected 2)"
     ]
    }
   ],
   "source": [
    "a,b = (2,22,44)"
   ]
  },
  {
   "cell_type": "code",
   "execution_count": 25,
   "id": "308d6a9d",
   "metadata": {},
   "outputs": [],
   "source": [
    "# Sets are of the form {first_element, second_element,.....}. Sets do not accept duplicate\n",
    "my_set = {1,1,1,1,1,2,2,3,3,3,4,5,5,5,6,7,7,7}"
   ]
  },
  {
   "cell_type": "code",
   "execution_count": 26,
   "id": "ce945510",
   "metadata": {},
   "outputs": [
    {
     "data": {
      "text/plain": [
       "{1, 2, 3, 4, 5, 6, 7}"
      ]
     },
     "execution_count": 26,
     "metadata": {},
     "output_type": "execute_result"
    }
   ],
   "source": [
    "my_set"
   ]
  },
  {
   "cell_type": "code",
   "execution_count": 27,
   "id": "f9ecd037",
   "metadata": {},
   "outputs": [
    {
     "data": {
      "text/plain": [
       "{1, 2, 3, 4, 5, 6, 7}"
      ]
     },
     "execution_count": 27,
     "metadata": {},
     "output_type": "execute_result"
    }
   ],
   "source": [
    "{7,6,5,4,3,2,1}"
   ]
  },
  {
   "cell_type": "code",
   "execution_count": 28,
   "id": "337b259f",
   "metadata": {},
   "outputs": [
    {
     "ename": "TypeError",
     "evalue": "'set' object is not subscriptable",
     "output_type": "error",
     "traceback": [
      "\u001b[0;31m---------------------------------------------------------------------------\u001b[0m",
      "\u001b[0;31mTypeError\u001b[0m                                 Traceback (most recent call last)",
      "Cell \u001b[0;32mIn[28], line 1\u001b[0m\n\u001b[0;32m----> 1\u001b[0m my_set[\u001b[38;5;241m0\u001b[39m]\n",
      "\u001b[0;31mTypeError\u001b[0m: 'set' object is not subscriptable"
     ]
    }
   ],
   "source": [
    "my_set[0]"
   ]
  },
  {
   "cell_type": "code",
   "execution_count": 29,
   "id": "782c0021",
   "metadata": {},
   "outputs": [],
   "source": [
    "alpha_set = {'Water Melon','Pineapple','Grape','Apple','Banana','Cucumber'}"
   ]
  },
  {
   "cell_type": "code",
   "execution_count": 30,
   "id": "e24049dd",
   "metadata": {},
   "outputs": [
    {
     "data": {
      "text/plain": [
       "{'Apple', 'Banana', 'Cucumber', 'Grape', 'Pineapple', 'Water Melon'}"
      ]
     },
     "execution_count": 30,
     "metadata": {},
     "output_type": "execute_result"
    }
   ],
   "source": [
    "alpha_set"
   ]
  },
  {
   "cell_type": "code",
   "execution_count": 33,
   "id": "ecc97125",
   "metadata": {},
   "outputs": [],
   "source": [
    "my_list = [22,1,31,5,9,0,9,9]"
   ]
  },
  {
   "cell_type": "code",
   "execution_count": 34,
   "id": "c8f6c2f6",
   "metadata": {},
   "outputs": [
    {
     "data": {
      "text/plain": [
       "{0, 1, 5, 9, 22, 31}"
      ]
     },
     "execution_count": 34,
     "metadata": {},
     "output_type": "execute_result"
    }
   ],
   "source": [
    "set(my_list)"
   ]
  },
  {
   "cell_type": "markdown",
   "id": "1960c66d",
   "metadata": {},
   "source": [
    "# Printing"
   ]
  },
  {
   "cell_type": "code",
   "execution_count": 35,
   "id": "9765e505",
   "metadata": {},
   "outputs": [],
   "source": [
    "name = 'Moussa'"
   ]
  },
  {
   "cell_type": "code",
   "execution_count": 36,
   "id": "47c25669",
   "metadata": {},
   "outputs": [
    {
     "data": {
      "text/plain": [
       "'Moussa'"
      ]
     },
     "execution_count": 36,
     "metadata": {},
     "output_type": "execute_result"
    }
   ],
   "source": [
    "name"
   ]
  },
  {
   "cell_type": "code",
   "execution_count": 37,
   "id": "07e8a5af",
   "metadata": {},
   "outputs": [
    {
     "name": "stdout",
     "output_type": "stream",
     "text": [
      "Moussa\n"
     ]
    }
   ],
   "source": [
    "print(name)"
   ]
  },
  {
   "cell_type": "code",
   "execution_count": 49,
   "id": "fbfc5088",
   "metadata": {},
   "outputs": [],
   "source": [
    "first_name = 'Moussa'\n",
    "last_name = \"Doumbia\"\n",
    "number =211"
   ]
  },
  {
   "cell_type": "code",
   "execution_count": 45,
   "id": "a3400b7e",
   "metadata": {},
   "outputs": [
    {
     "name": "stdout",
     "output_type": "stream",
     "text": [
      "Hello Moussa Doumbia!\n",
      " Welcome to AI for Edu\n"
     ]
    }
   ],
   "source": [
    "# f string\n",
    "print(f'Hello {first_name} {last_name}!\\n Welcome to AI for Edu')"
   ]
  },
  {
   "cell_type": "code",
   "execution_count": 46,
   "id": "0a743e91",
   "metadata": {},
   "outputs": [
    {
     "name": "stdout",
     "output_type": "stream",
     "text": [
      "Hello Moussa Doumbia\n",
      " Welcome to AI for EDu \n"
     ]
    }
   ],
   "source": [
    "# Formating\n",
    "print(\"Hello {} {}\\n Welcome to AI for EDu \".format(first_name,last_name))"
   ]
  },
  {
   "cell_type": "code",
   "execution_count": 47,
   "id": "0150f526",
   "metadata": {},
   "outputs": [
    {
     "name": "stdout",
     "output_type": "stream",
     "text": [
      "Hello Moussa Doumbia\n",
      " Welcome to AI for EDu \n"
     ]
    }
   ],
   "source": [
    "print(\"Hello {one} {two}\\n Welcome to AI for EDu \".format(two=last_name, one=first_name))"
   ]
  },
  {
   "cell_type": "code",
   "execution_count": 50,
   "id": "4b88c038",
   "metadata": {},
   "outputs": [
    {
     "name": "stdout",
     "output_type": "stream",
     "text": [
      "Hello Moussa Doumbia!\n",
      " Welcome to AI for EDU. Your office number is 211\n"
     ]
    }
   ],
   "source": [
    "print(\"Hello {} {}!\\n Welcome to AI for EDU. Your office number is {}\".format(first_name, last_name, number))"
   ]
  },
  {
   "cell_type": "code",
   "execution_count": 57,
   "id": "9d34495d",
   "metadata": {},
   "outputs": [
    {
     "name": "stdout",
     "output_type": "stream",
     "text": [
      "                                         Center Method                                         \n"
     ]
    }
   ],
   "source": [
    "print('Center Method'.center(95))"
   ]
  },
  {
   "cell_type": "code",
   "execution_count": null,
   "id": "1b32cbc4",
   "metadata": {},
   "outputs": [],
   "source": []
  }
 ],
 "metadata": {
  "kernelspec": {
   "display_name": "Python 3 (ipykernel)",
   "language": "python",
   "name": "python3"
  },
  "language_info": {
   "codemirror_mode": {
    "name": "ipython",
    "version": 3
   },
   "file_extension": ".py",
   "mimetype": "text/x-python",
   "name": "python",
   "nbconvert_exporter": "python",
   "pygments_lexer": "ipython3",
   "version": "3.11.4"
  }
 },
 "nbformat": 4,
 "nbformat_minor": 5
}
